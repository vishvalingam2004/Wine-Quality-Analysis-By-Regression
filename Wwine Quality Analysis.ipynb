{
 "cells": [
  {
   "cell_type": "code",
   "execution_count": 82,
   "id": "961395a0",
   "metadata": {},
   "outputs": [],
   "source": [
    "import matplotlib.pyplot as plt\n",
    "import seaborn as sns\n",
    "import pandas as pd\n",
    "import numpy as np"
   ]
  },
  {
   "cell_type": "code",
   "execution_count": 83,
   "id": "eadcf979",
   "metadata": {},
   "outputs": [],
   "source": [
    "df=pd.read_csv('winequality-red.csv')"
   ]
  },
  {
   "cell_type": "code",
   "execution_count": 84,
   "id": "dbc3cee2",
   "metadata": {},
   "outputs": [
    {
     "data": {
      "text/html": [
       "<div>\n",
       "<style scoped>\n",
       "    .dataframe tbody tr th:only-of-type {\n",
       "        vertical-align: middle;\n",
       "    }\n",
       "\n",
       "    .dataframe tbody tr th {\n",
       "        vertical-align: top;\n",
       "    }\n",
       "\n",
       "    .dataframe thead th {\n",
       "        text-align: right;\n",
       "    }\n",
       "</style>\n",
       "<table border=\"1\" class=\"dataframe\">\n",
       "  <thead>\n",
       "    <tr style=\"text-align: right;\">\n",
       "      <th></th>\n",
       "      <th>fixed acidity</th>\n",
       "      <th>volatile acidity</th>\n",
       "      <th>citric acid</th>\n",
       "      <th>residual sugar</th>\n",
       "      <th>chlorides</th>\n",
       "      <th>free sulfur dioxide</th>\n",
       "      <th>total sulfur dioxide</th>\n",
       "      <th>density</th>\n",
       "      <th>pH</th>\n",
       "      <th>sulphates</th>\n",
       "      <th>alcohol</th>\n",
       "      <th>quality</th>\n",
       "    </tr>\n",
       "  </thead>\n",
       "  <tbody>\n",
       "    <tr>\n",
       "      <th>0</th>\n",
       "      <td>7.4</td>\n",
       "      <td>0.700</td>\n",
       "      <td>0.00</td>\n",
       "      <td>1.9</td>\n",
       "      <td>0.076</td>\n",
       "      <td>11.0</td>\n",
       "      <td>34.0</td>\n",
       "      <td>0.99780</td>\n",
       "      <td>3.51</td>\n",
       "      <td>0.56</td>\n",
       "      <td>9.4</td>\n",
       "      <td>5</td>\n",
       "    </tr>\n",
       "    <tr>\n",
       "      <th>1</th>\n",
       "      <td>7.8</td>\n",
       "      <td>0.880</td>\n",
       "      <td>0.00</td>\n",
       "      <td>2.6</td>\n",
       "      <td>0.098</td>\n",
       "      <td>25.0</td>\n",
       "      <td>67.0</td>\n",
       "      <td>0.99680</td>\n",
       "      <td>3.20</td>\n",
       "      <td>0.68</td>\n",
       "      <td>9.8</td>\n",
       "      <td>5</td>\n",
       "    </tr>\n",
       "    <tr>\n",
       "      <th>2</th>\n",
       "      <td>7.8</td>\n",
       "      <td>0.760</td>\n",
       "      <td>0.04</td>\n",
       "      <td>2.3</td>\n",
       "      <td>0.092</td>\n",
       "      <td>15.0</td>\n",
       "      <td>54.0</td>\n",
       "      <td>0.99700</td>\n",
       "      <td>3.26</td>\n",
       "      <td>0.65</td>\n",
       "      <td>9.8</td>\n",
       "      <td>5</td>\n",
       "    </tr>\n",
       "    <tr>\n",
       "      <th>3</th>\n",
       "      <td>11.2</td>\n",
       "      <td>0.280</td>\n",
       "      <td>0.56</td>\n",
       "      <td>1.9</td>\n",
       "      <td>0.075</td>\n",
       "      <td>17.0</td>\n",
       "      <td>60.0</td>\n",
       "      <td>0.99800</td>\n",
       "      <td>3.16</td>\n",
       "      <td>0.58</td>\n",
       "      <td>9.8</td>\n",
       "      <td>6</td>\n",
       "    </tr>\n",
       "    <tr>\n",
       "      <th>4</th>\n",
       "      <td>7.4</td>\n",
       "      <td>0.700</td>\n",
       "      <td>0.00</td>\n",
       "      <td>1.9</td>\n",
       "      <td>0.076</td>\n",
       "      <td>11.0</td>\n",
       "      <td>34.0</td>\n",
       "      <td>0.99780</td>\n",
       "      <td>3.51</td>\n",
       "      <td>0.56</td>\n",
       "      <td>9.4</td>\n",
       "      <td>5</td>\n",
       "    </tr>\n",
       "    <tr>\n",
       "      <th>...</th>\n",
       "      <td>...</td>\n",
       "      <td>...</td>\n",
       "      <td>...</td>\n",
       "      <td>...</td>\n",
       "      <td>...</td>\n",
       "      <td>...</td>\n",
       "      <td>...</td>\n",
       "      <td>...</td>\n",
       "      <td>...</td>\n",
       "      <td>...</td>\n",
       "      <td>...</td>\n",
       "      <td>...</td>\n",
       "    </tr>\n",
       "    <tr>\n",
       "      <th>1594</th>\n",
       "      <td>6.2</td>\n",
       "      <td>0.600</td>\n",
       "      <td>0.08</td>\n",
       "      <td>2.0</td>\n",
       "      <td>0.090</td>\n",
       "      <td>32.0</td>\n",
       "      <td>44.0</td>\n",
       "      <td>0.99490</td>\n",
       "      <td>3.45</td>\n",
       "      <td>0.58</td>\n",
       "      <td>10.5</td>\n",
       "      <td>5</td>\n",
       "    </tr>\n",
       "    <tr>\n",
       "      <th>1595</th>\n",
       "      <td>5.9</td>\n",
       "      <td>0.550</td>\n",
       "      <td>0.10</td>\n",
       "      <td>2.2</td>\n",
       "      <td>0.062</td>\n",
       "      <td>39.0</td>\n",
       "      <td>51.0</td>\n",
       "      <td>0.99512</td>\n",
       "      <td>3.52</td>\n",
       "      <td>0.76</td>\n",
       "      <td>11.2</td>\n",
       "      <td>6</td>\n",
       "    </tr>\n",
       "    <tr>\n",
       "      <th>1596</th>\n",
       "      <td>6.3</td>\n",
       "      <td>0.510</td>\n",
       "      <td>0.13</td>\n",
       "      <td>2.3</td>\n",
       "      <td>0.076</td>\n",
       "      <td>29.0</td>\n",
       "      <td>40.0</td>\n",
       "      <td>0.99574</td>\n",
       "      <td>3.42</td>\n",
       "      <td>0.75</td>\n",
       "      <td>11.0</td>\n",
       "      <td>6</td>\n",
       "    </tr>\n",
       "    <tr>\n",
       "      <th>1597</th>\n",
       "      <td>5.9</td>\n",
       "      <td>0.645</td>\n",
       "      <td>0.12</td>\n",
       "      <td>2.0</td>\n",
       "      <td>0.075</td>\n",
       "      <td>32.0</td>\n",
       "      <td>44.0</td>\n",
       "      <td>0.99547</td>\n",
       "      <td>3.57</td>\n",
       "      <td>0.71</td>\n",
       "      <td>10.2</td>\n",
       "      <td>5</td>\n",
       "    </tr>\n",
       "    <tr>\n",
       "      <th>1598</th>\n",
       "      <td>6.0</td>\n",
       "      <td>0.310</td>\n",
       "      <td>0.47</td>\n",
       "      <td>3.6</td>\n",
       "      <td>0.067</td>\n",
       "      <td>18.0</td>\n",
       "      <td>42.0</td>\n",
       "      <td>0.99549</td>\n",
       "      <td>3.39</td>\n",
       "      <td>0.66</td>\n",
       "      <td>11.0</td>\n",
       "      <td>6</td>\n",
       "    </tr>\n",
       "  </tbody>\n",
       "</table>\n",
       "<p>1599 rows × 12 columns</p>\n",
       "</div>"
      ],
      "text/plain": [
       "      fixed acidity  volatile acidity  citric acid  residual sugar  chlorides  \\\n",
       "0               7.4             0.700         0.00             1.9      0.076   \n",
       "1               7.8             0.880         0.00             2.6      0.098   \n",
       "2               7.8             0.760         0.04             2.3      0.092   \n",
       "3              11.2             0.280         0.56             1.9      0.075   \n",
       "4               7.4             0.700         0.00             1.9      0.076   \n",
       "...             ...               ...          ...             ...        ...   \n",
       "1594            6.2             0.600         0.08             2.0      0.090   \n",
       "1595            5.9             0.550         0.10             2.2      0.062   \n",
       "1596            6.3             0.510         0.13             2.3      0.076   \n",
       "1597            5.9             0.645         0.12             2.0      0.075   \n",
       "1598            6.0             0.310         0.47             3.6      0.067   \n",
       "\n",
       "      free sulfur dioxide  total sulfur dioxide  density    pH  sulphates  \\\n",
       "0                    11.0                  34.0  0.99780  3.51       0.56   \n",
       "1                    25.0                  67.0  0.99680  3.20       0.68   \n",
       "2                    15.0                  54.0  0.99700  3.26       0.65   \n",
       "3                    17.0                  60.0  0.99800  3.16       0.58   \n",
       "4                    11.0                  34.0  0.99780  3.51       0.56   \n",
       "...                   ...                   ...      ...   ...        ...   \n",
       "1594                 32.0                  44.0  0.99490  3.45       0.58   \n",
       "1595                 39.0                  51.0  0.99512  3.52       0.76   \n",
       "1596                 29.0                  40.0  0.99574  3.42       0.75   \n",
       "1597                 32.0                  44.0  0.99547  3.57       0.71   \n",
       "1598                 18.0                  42.0  0.99549  3.39       0.66   \n",
       "\n",
       "      alcohol  quality  \n",
       "0         9.4        5  \n",
       "1         9.8        5  \n",
       "2         9.8        5  \n",
       "3         9.8        6  \n",
       "4         9.4        5  \n",
       "...       ...      ...  \n",
       "1594     10.5        5  \n",
       "1595     11.2        6  \n",
       "1596     11.0        6  \n",
       "1597     10.2        5  \n",
       "1598     11.0        6  \n",
       "\n",
       "[1599 rows x 12 columns]"
      ]
     },
     "metadata": {},
     "output_type": "display_data"
    }
   ],
   "source": [
    "display(df)"
   ]
  },
  {
   "cell_type": "code",
   "execution_count": 85,
   "id": "37cc9928",
   "metadata": {},
   "outputs": [
    {
     "name": "stdout",
     "output_type": "stream",
     "text": [
      "<class 'pandas.core.frame.DataFrame'>\n",
      "RangeIndex: 1599 entries, 0 to 1598\n",
      "Data columns (total 12 columns):\n",
      " #   Column                Non-Null Count  Dtype  \n",
      "---  ------                --------------  -----  \n",
      " 0   fixed acidity         1599 non-null   float64\n",
      " 1   volatile acidity      1599 non-null   float64\n",
      " 2   citric acid           1599 non-null   float64\n",
      " 3   residual sugar        1599 non-null   float64\n",
      " 4   chlorides             1599 non-null   float64\n",
      " 5   free sulfur dioxide   1599 non-null   float64\n",
      " 6   total sulfur dioxide  1599 non-null   float64\n",
      " 7   density               1599 non-null   float64\n",
      " 8   pH                    1599 non-null   float64\n",
      " 9   sulphates             1599 non-null   float64\n",
      " 10  alcohol               1599 non-null   float64\n",
      " 11  quality               1599 non-null   int64  \n",
      "dtypes: float64(11), int64(1)\n",
      "memory usage: 150.0 KB\n"
     ]
    }
   ],
   "source": [
    "df.info()"
   ]
  },
  {
   "cell_type": "code",
   "execution_count": 86,
   "id": "d322067d",
   "metadata": {},
   "outputs": [
    {
     "data": {
      "text/plain": [
       "fixed acidity           False\n",
       "volatile acidity        False\n",
       "citric acid             False\n",
       "residual sugar          False\n",
       "chlorides               False\n",
       "free sulfur dioxide     False\n",
       "total sulfur dioxide    False\n",
       "density                 False\n",
       "pH                      False\n",
       "sulphates               False\n",
       "alcohol                 False\n",
       "quality                 False\n",
       "dtype: bool"
      ]
     },
     "execution_count": 86,
     "metadata": {},
     "output_type": "execute_result"
    }
   ],
   "source": [
    "df.isnull().any()"
   ]
  },
  {
   "cell_type": "code",
   "execution_count": 87,
   "id": "6dd09266",
   "metadata": {},
   "outputs": [],
   "source": [
    "df=df.astype({'quality':'float'})"
   ]
  },
  {
   "cell_type": "code",
   "execution_count": 88,
   "id": "29e91d90",
   "metadata": {},
   "outputs": [],
   "source": [
    "x=df.iloc[:,0:11]\n",
    "y=df['quality']"
   ]
  },
  {
   "cell_type": "code",
   "execution_count": 89,
   "id": "2744ee24",
   "metadata": {},
   "outputs": [],
   "source": [
    "from sklearn.model_selection import train_test_split"
   ]
  },
  {
   "cell_type": "code",
   "execution_count": 90,
   "id": "39be8a1e",
   "metadata": {},
   "outputs": [],
   "source": [
    "xtr,xts,ytr,yts=train_test_split(x,y,test_size=0.2,random_state=0)"
   ]
  },
  {
   "cell_type": "code",
   "execution_count": 91,
   "id": "b60b78ac",
   "metadata": {},
   "outputs": [],
   "source": [
    "from sklearn.preprocessing import StandardScaler"
   ]
  },
  {
   "cell_type": "code",
   "execution_count": 92,
   "id": "3897cd83",
   "metadata": {},
   "outputs": [],
   "source": [
    "scl=StandardScaler()"
   ]
  },
  {
   "cell_type": "code",
   "execution_count": 93,
   "id": "fa3f8dd5",
   "metadata": {},
   "outputs": [],
   "source": [
    "xtr=scl.fit_transform(xtr)\n",
    "xts=scl.transform(xts)"
   ]
  },
  {
   "cell_type": "code",
   "execution_count": 94,
   "id": "4e0f1a38",
   "metadata": {},
   "outputs": [
    {
     "data": {
      "text/plain": [
       "array([[ 0.90103398,  0.05480282,  0.9094138 , ...,  0.52091013,\n",
       "        -0.22358408, -0.95579434],\n",
       "       [ 1.41998736, -1.47967601,  0.9094138 , ..., -1.16841553,\n",
       "        -0.68130963, -0.76727388],\n",
       "       [ 0.90103398, -0.98645067,  1.4208416 , ..., -0.3237527 ,\n",
       "         0.74908272,  0.17532846],\n",
       "       ...,\n",
       "       [-0.25219574,  0.21921126,  0.19341488, ..., -0.12883051,\n",
       "         0.17692578, -0.86153411],\n",
       "       [ 2.68854005, -0.32881689,  1.11398492, ..., -0.06385645,\n",
       "         0.11971008,  2.15479335],\n",
       "       [ 0.84337249,  2.46612668,  0.24455766, ..., -0.38872677,\n",
       "        -1.0246038 , -0.95579434]])"
      ]
     },
     "execution_count": 94,
     "metadata": {},
     "output_type": "execute_result"
    }
   ],
   "source": [
    "xtr"
   ]
  },
  {
   "cell_type": "code",
   "execution_count": 95,
   "id": "345ff526",
   "metadata": {},
   "outputs": [
    {
     "data": {
      "text/plain": [
       "642     5.0\n",
       "679     5.0\n",
       "473     5.0\n",
       "390     8.0\n",
       "1096    6.0\n",
       "       ... \n",
       "763     5.0\n",
       "835     5.0\n",
       "1216    6.0\n",
       "559     6.0\n",
       "684     5.0\n",
       "Name: quality, Length: 1279, dtype: float64"
      ]
     },
     "execution_count": 95,
     "metadata": {},
     "output_type": "execute_result"
    }
   ],
   "source": [
    "ytr"
   ]
  },
  {
   "cell_type": "code",
   "execution_count": 96,
   "id": "5024b0c3",
   "metadata": {},
   "outputs": [],
   "source": [
    "from sklearn.linear_model import LinearRegression"
   ]
  },
  {
   "cell_type": "code",
   "execution_count": 97,
   "id": "7b7c7d56",
   "metadata": {},
   "outputs": [],
   "source": [
    "mod=LinearRegression()"
   ]
  },
  {
   "cell_type": "code",
   "execution_count": 98,
   "id": "88aad525",
   "metadata": {},
   "outputs": [
    {
     "data": {
      "text/plain": [
       "LinearRegression()"
      ]
     },
     "execution_count": 98,
     "metadata": {},
     "output_type": "execute_result"
    }
   ],
   "source": [
    "mod.fit(xtr,ytr)"
   ]
  },
  {
   "cell_type": "code",
   "execution_count": 99,
   "id": "aa092956",
   "metadata": {},
   "outputs": [
    {
     "name": "stdout",
     "output_type": "stream",
     "text": [
      "[5.7829301  5.03619267 6.59698929 5.33912637 5.93952898 5.0072068\n",
      " 5.39616171 6.05211188 4.86760343 4.95067572 5.28580441 5.41265269\n",
      " 5.7057424  5.12921737 5.52885206 6.38052412 6.81012527 5.73803346\n",
      " 5.97618825 5.08613415 6.34479863 5.16400983 5.64203971 6.1462903\n",
      " 5.4817802  5.03391406 5.18721293 6.48783659 5.33301372 6.30458308\n",
      " 6.03452293 5.82849303 5.58503524 5.28512701 5.75656128 6.15273792\n",
      " 5.14134479 5.48228021 6.38983359 5.7901819  5.42936928 6.04810414\n",
      " 6.70159678 6.60160183 5.97253803 4.78890763 5.49565005 6.01881894\n",
      " 5.48895041 6.10824243 5.3126164  5.28492351 5.76043226 6.36081498\n",
      " 5.7195388  5.26971928 5.08498332 5.31050693 6.50895816 5.44323413\n",
      " 5.16377401 5.76427324 6.0703837  6.28933679 5.07315141 6.11874641\n",
      " 5.35681067 6.01343647 6.12184268 5.98547673 5.35327968 5.4367731\n",
      " 5.06017324 5.58939889 5.62593935 6.25651326 5.37875073 5.31024191\n",
      " 5.72008022 6.30275434 5.71093253 5.27783285 5.89582077 6.0876033\n",
      " 5.50616533 5.37465715 6.2437351  5.07332478 5.32665801 4.97398339\n",
      " 5.15975198 5.3222433  5.80802642 5.41018532 6.20608506 5.35327968\n",
      " 6.29102872 5.3563169  5.44615319 5.91167448 6.8638794  5.95652806\n",
      " 5.78388971 6.29371091 5.59599754 4.95365311 5.59599754 5.42146389\n",
      " 6.01303846 5.27638601 5.88672069 5.12760247 6.2448062  5.02250118\n",
      " 5.61019652 5.78465194 5.67109764 6.40669755 5.80411913 5.64203971\n",
      " 5.1425518  5.90518858 5.40535036 5.08051616 6.21318148 6.31555382\n",
      " 5.31479331 5.43479319 6.00371415 6.44580043 5.42123137 5.21176713\n",
      " 6.0115925  5.82456823 6.30161065 5.2778688  5.89171326 5.27523169\n",
      " 6.06991874 5.33404791 6.01515226 5.09525238 5.49565005 5.26881614\n",
      " 5.6457977  5.7407852  6.2448062  6.40720033 6.25146759 5.27789573\n",
      " 5.91333663 5.90495368 5.42146389 5.51302494 5.54847605 5.40070493\n",
      " 5.08033848 5.3510922  6.22327966 6.09839802 5.93181807 5.58654048\n",
      " 6.28448742 5.12182863 5.92703798 5.02880639 6.02096889 6.48614221\n",
      " 5.47510197 5.95369102 5.96856352 5.52714605 4.99032758 6.61783587\n",
      " 5.83168392 6.27155921 6.1696774  6.82398109 6.09221279 4.79911152\n",
      " 5.08007664 6.97183788 5.47185136 6.15652237 6.76814871 5.01090071\n",
      " 5.64760285 5.78388971 4.99837302 6.13355739 6.07096526 5.90429107\n",
      " 5.15557434 5.46274017 5.18721745 5.16438178 5.28580441 5.14635187\n",
      " 5.23327742 5.13457255 5.25484703 6.16206701 5.16430349 5.29976489\n",
      " 5.41360202 4.95989181 5.08718841 6.34194262 6.02109942 5.40945753\n",
      " 5.93102776 6.16931767 5.35093909 6.37326597 5.00471968 5.44868099\n",
      " 5.90152973 6.03130172 5.56044971 5.00135995 5.03938153 5.93018212\n",
      " 6.39367602 5.74511903 5.42761053 6.01275242 6.38386771 5.76122648\n",
      " 4.82219859 5.46878592 5.04430938 5.90506617 5.06816998 5.87105926\n",
      " 6.25707687 5.63526985 6.1124061  6.58032257 6.51304421 6.12637713\n",
      " 5.34985341 4.91834558 5.02633902 5.10209868 5.93751622 4.82726361\n",
      " 5.58643272 5.25007252 4.87286412 6.34221756 4.87320824 5.26969753\n",
      " 4.89400677 5.33869588 5.52716577 5.53897238 5.12721593 5.06001131\n",
      " 5.13911179 5.59628108 5.34085607 6.96723853 5.31357668 5.6468939\n",
      " 5.24038769 4.69060078 5.33061878 4.97930332 5.60209709 6.49226284\n",
      " 5.72883634 5.7319909  5.63538976 6.086924   5.92577835 5.85174439\n",
      " 6.37461452 5.18497794 6.56584684 6.14312626 5.37501664 6.91651759\n",
      " 5.7319909  6.34086207 5.78421572 5.18439125 5.54950551 5.33360868\n",
      " 6.269919   5.88265344 5.68163948 5.42086654 6.12538899 5.31406745\n",
      " 5.19528191 5.70178575 5.5675469  5.14670499 5.15556398 5.24007613\n",
      " 5.69892321 5.06382643 5.35893169 5.69605721 6.10381152 5.84992365\n",
      " 5.33722415 5.05158628 5.59207818 5.30872494 5.91032222 5.92390941\n",
      " 5.3494868  5.3563169  5.10159886 6.55975683 6.01757571 6.25129053\n",
      " 5.16392559 6.36720517]\n"
     ]
    }
   ],
   "source": [
    "pred=mod.predict(xts)\n",
    "print(pred)"
   ]
  },
  {
   "cell_type": "code",
   "execution_count": 100,
   "id": "a24ac01d",
   "metadata": {},
   "outputs": [],
   "source": [
    "from sklearn.metrics import r2_score"
   ]
  },
  {
   "cell_type": "code",
   "execution_count": 101,
   "id": "9e0c5a89",
   "metadata": {},
   "outputs": [
    {
     "name": "stdout",
     "output_type": "stream",
     "text": [
      "R Squared Term is: 32.83887639580222\n"
     ]
    }
   ],
   "source": [
    "score=r2_score(yts,pred)\n",
    "print(\"R Squared Term is:\",score*100)"
   ]
  },
  {
   "cell_type": "code",
   "execution_count": 102,
   "id": "f89c0918",
   "metadata": {},
   "outputs": [
    {
     "data": {
      "text/plain": [
       "<AxesSubplot:xlabel='quality'>"
      ]
     },
     "execution_count": 102,
     "metadata": {},
     "output_type": "execute_result"
    },
    {
     "data": {
      "image/png": "[encoded data removed]",
      "text/plain": [
       "<Figure size 640x480 with 1 Axes>"
      ]
     },
     "metadata": {},
     "output_type": "display_data"
    }
   ],
   "source": [
    "sns.regplot(data=df,x=yts,y=pred,color='green')"
   ]
  }
 ],
 "metadata": {
  "kernelspec": {
   "display_name": "Python 3 (ipykernel)",
   "language": "python",
   "name": "python3"
  },
  "language_info": {
   "codemirror_mode": {
    "name": "ipython",
    "version": 3
   },
   "file_extension": ".py",
   "mimetype": "text/x-python",
   "name": "python",
   "nbconvert_exporter": "python",
   "pygments_lexer": "ipython3",
   "version": "3.9.13"
  }
 },
 "nbformat": 4,
 "nbformat_minor": 5
}
